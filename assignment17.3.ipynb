{
 "cells": [
  {
   "cell_type": "code",
   "execution_count": 6,
   "metadata": {},
   "outputs": [
    {
     "data": {
      "text/html": [
       "<div>\n",
       "<style scoped>\n",
       "    .dataframe tbody tr th:only-of-type {\n",
       "        vertical-align: middle;\n",
       "    }\n",
       "\n",
       "    .dataframe tbody tr th {\n",
       "        vertical-align: top;\n",
       "    }\n",
       "\n",
       "    .dataframe thead th {\n",
       "        text-align: right;\n",
       "    }\n",
       "</style>\n",
       "<table border=\"1\" class=\"dataframe\">\n",
       "  <thead>\n",
       "    <tr style=\"text-align: right;\">\n",
       "      <th></th>\n",
       "      <th>Events</th>\n",
       "      <th>Probablity</th>\n",
       "    </tr>\n",
       "  </thead>\n",
       "  <tbody>\n",
       "    <tr>\n",
       "      <th>0</th>\n",
       "      <td>RR</td>\n",
       "      <td>0.133333</td>\n",
       "    </tr>\n",
       "    <tr>\n",
       "      <th>1</th>\n",
       "      <td>RB</td>\n",
       "      <td>0.266667</td>\n",
       "    </tr>\n",
       "    <tr>\n",
       "      <th>2</th>\n",
       "      <td>BB</td>\n",
       "      <td>0.333333</td>\n",
       "    </tr>\n",
       "    <tr>\n",
       "      <th>3</th>\n",
       "      <td>BR</td>\n",
       "      <td>0.266667</td>\n",
       "    </tr>\n",
       "  </tbody>\n",
       "</table>\n",
       "</div>"
      ],
      "text/plain": [
       "  Events  Probablity\n",
       "0     RR    0.133333\n",
       "1     RB    0.266667\n",
       "2     BB    0.333333\n",
       "3     BR    0.266667"
      ]
     },
     "execution_count": 6,
     "metadata": {},
     "output_type": "execute_result"
    }
   ],
   "source": [
    "import pandas as pd\n",
    "\n",
    "possible_combination =[\"RR\",\"RB\",\"BB\",\"BR\"]\n",
    "\n",
    "Data = pd.DataFrame(possible_combination,columns={\"Events\"})\n",
    "\n",
    "def Probablity(event,R,B):\n",
    "    N=R+B\n",
    "    p1=[0,0]\n",
    "    for i  in range(len(event)):\n",
    "        if event[i]=='R':\n",
    "            p1[i]=(R/N)\n",
    "            R=R-1\n",
    "            N=N-1\n",
    "        if event[i]=='B':\n",
    "           p1[i]=(B/N)\n",
    "           B=B-1\n",
    "           N=N-1\n",
    "        \n",
    "            \n",
    "    return p1[0]*p1[1]\n",
    "Pro =[]\n",
    "for E in possible_combination:\n",
    "   \n",
    "    Pro.append(Probablity(E,4,6))\n",
    "\n",
    "Data['Probablity'] = Pro   \n",
    "Data.head()    "
   ]
  },
  {
   "cell_type": "code",
   "execution_count": null,
   "metadata": {},
   "outputs": [],
   "source": []
  }
 ],
 "metadata": {
  "kernelspec": {
   "display_name": "Python 3",
   "language": "python",
   "name": "python3"
  },
  "language_info": {
   "codemirror_mode": {
    "name": "ipython",
    "version": 3
   },
   "file_extension": ".py",
   "mimetype": "text/x-python",
   "name": "python",
   "nbconvert_exporter": "python",
   "pygments_lexer": "ipython3",
   "version": "3.6.5"
  }
 },
 "nbformat": 4,
 "nbformat_minor": 2
}
